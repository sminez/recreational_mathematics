{
 "cells": [
  {
   "cell_type": "markdown",
   "metadata": {},
   "source": [
    "# π for Regular polygons\n",
    "\n",
    "The mathematical constant π is defined to be the ratio of the circumference of a circle to it's diamater.\n",
    "\n",
    "<img src=\"https://upload.wikimedia.org/wikipedia/commons/thumb/3/36/Pi_eq_C_over_d.svg/2000px-Pi_eq_C_over_d.svg.png\" style=\"width: 200px; float: left\"/>\n",
    "\n",
    "We can extend this idea to include polygons if we take the diamater to be the greatest straight line distance between two points on the perimeter and simply take the perimeter to be the circumference.\n",
    "\n",
    "For regular polygons we can have a little fun with finding the value of π as a function of the n, the number of sides.\n",
    "\n",
    "We'll call this function, η(x) because I like saying \"eta\".\n",
    "\n",
    "Now, η(x) should have a couple of properties: first, as n tends towards infinity we should approach a value of π. (Stricly speaking, a circle is <b>not</b> an infini-gon so we need to be careful here!)\n",
    "\n",
    "So, lets get cracking!\n",
    "\n",
    "<img src=\"http://www.emathematics.net/imagenes/regularpolygon.gif\" />"
   ]
  },
  {
   "cell_type": "markdown",
   "metadata": {},
   "source": [
    "## Defining η(x)"
   ]
  },
  {
   "cell_type": "code",
   "execution_count": null,
   "metadata": {
    "collapsed": true
   },
   "outputs": [],
   "source": [
    "def η(n):\n",
    "    \"\"\"\n",
    "    η(n) takes as its argument, the number of sides of a regular ploygon with side length 1.\n",
    "    It returns the ratio of the the perimiter (equal to n given that it has side length 1) to the diameter\n",
    "    where the diameter is the greatest straight line distance between any two points on the perimeter.\n",
    "    \n",
    "    There are two cases:    n is even -> the diameter is between two vertices\n",
    "                            n is odd  -> the diamater is between a vertex and the midpoint of the opposite side. \n",
    "    \"\"\"\n",
    "    diameter = \"?\"\n",
    "    return n / diameter"
   ]
  },
  {
   "cell_type": "code",
   "execution_count": null,
   "metadata": {
    "collapsed": true
   },
   "outputs": [],
   "source": []
  },
  {
   "cell_type": "code",
   "execution_count": null,
   "metadata": {
    "collapsed": true
   },
   "outputs": [],
   "source": []
  },
  {
   "cell_type": "code",
   "execution_count": null,
   "metadata": {
    "collapsed": true
   },
   "outputs": [],
   "source": []
  }
 ],
 "metadata": {
  "kernelspec": {
   "display_name": "Python 3",
   "language": "python",
   "name": "python3"
  },
  "language_info": {
   "codemirror_mode": {
    "name": "ipython",
    "version": 3
   },
   "file_extension": ".py",
   "mimetype": "text/x-python",
   "name": "python",
   "nbconvert_exporter": "python",
   "pygments_lexer": "ipython3",
   "version": "3.5.1"
  }
 },
 "nbformat": 4,
 "nbformat_minor": 0
}
