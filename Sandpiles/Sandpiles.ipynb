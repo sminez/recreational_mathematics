{
 "cells": [
  {
   "cell_type": "markdown",
   "metadata": {},
   "source": [
    "### TODO::\n",
    "- Torus, sphere, klein topologies\n",
    "- 3D with projection\n",
    "\n",
    "### References\n",
    "https://docs.scipy.org/doc/numpy/reference/arrays.ndarray.html"
   ]
  },
  {
   "cell_type": "code",
   "execution_count": 113,
   "metadata": {
    "collapsed": false
   },
   "outputs": [
    {
     "name": "stdout",
     "output_type": "stream",
     "text": [
      "Populating the interactive namespace from numpy and matplotlib\n"
     ]
    }
   ],
   "source": [
    "%pylab inline\n",
    "from sandpile import *\n",
    "import pandas as pd\n",
    "import numpy as np\n",
    "import subprocess\n",
    "\n",
    "\n",
    "def trim_grid(grid):\n",
    "    # Trim empty\n",
    "    grid = [r for r in grid if sum(r) > 0]\n",
    "    # Trim empty columns\n",
    "    w1 = len(grid[0])\n",
    "    trans = [[r[n] for r in grid] for n in range(w1)]\n",
    "    trans = [r for r in trans if sum(r) > 0]\n",
    "    w2 = len(trans[0])\n",
    "    grid = [[r[n] for r in trans] for n in range(w2)]\n",
    "\n",
    "    return grid\n",
    "\n",
    "\n",
    "def visualise(data, size=30, cmap=\"RdYlBu\"):\n",
    "    '''Greys YlGnBu are also good'''\n",
    "    plt.figure(figsize=(size, size))\n",
    "    sns.heatmap(data, cbar=False, xticklabels=False, yticklabels=False, cmap=\"RdYlBu\")\n",
    "\n",
    "\n",
    "def from_csv(sandPower, pattern, seed=\".\"):\n",
    "    '''\n",
    "    load stored data from the csv directory\n",
    "    '''\n",
    "    if seed == \".\":\n",
    "        path = \"csv/2_{}_{}.csv\".format(sandPower, pattern)\n",
    "    else:\n",
    "        path = \"csv/2_{}_{}_{}.csv\".format(sandPower, pattern, seed)\n",
    "    data = np.genfromtxt(path, delimiter=\",\")\n",
    "    return trim_grid(data)\n",
    "\n",
    "\n",
    "def go_run(sandPower, pattern, seed=\".\"):\n",
    "    try:\n",
    "        return from_csv(sandPower, pattern, seed)\n",
    "    except:\n",
    "        cmd = [\"go\", \"run\", \"sandpile.go\"]\n",
    "        args = \"{} {} {}\".format(sandPower, pattern, seed)\n",
    "        proc = subprocess.run(cmd, input=args.encode(), shell=True, stdout=subprocess.PIPE)\n",
    "        print(proc)\n",
    "        return from_csv(sandPower, pattern, seed)\n",
    "\n",
    "\n",
    "def animate_by_n(start_stop=(4,22), pattern='+', fps=2, trim=True, cmap=\"RdYlBu\"):\n",
    "    fig = plt.figure()\n",
    "    fig.set_size_inches(5, 5, forward=True)\n",
    "\n",
    "    data = from_csv(start_stop[0], pattern)\n",
    "    ax = sns.heatmap(\n",
    "            data, cbar=False, xticklabels=False,\n",
    "            yticklabels=False, cmap=cmap\n",
    "        )\n",
    "\n",
    "    def init():\n",
    "        ax = sns.heatmap(\n",
    "                data, cbar=False, xticklabels=False,\n",
    "                yticklabels=False, cmap=cmap\n",
    "            )\n",
    "        return ax,\n",
    "\n",
    "    def animate(i, ax, fig):\n",
    "        ax.cla()\n",
    "        data = from_csv((start_stop[0] + i + 1), pattern)\n",
    "        ax = sns.heatmap(\n",
    "                data, cbar=False, xticklabels=False,\n",
    "                yticklabels=False, cmap=cmap, ax=ax\n",
    "            )\n",
    "        return ax,\n",
    "\n",
    "    anim = animation.FuncAnimation(\n",
    "            fig, animate, init_func=init,\n",
    "            frames=(start_stop[1] - start_stop[0]),\n",
    "            fargs=(ax, fig), repeat_delay=1000,\n",
    "            interval=20,\n",
    "        )\n",
    "\n",
    "    fname = \"{}_{}-{}.gif\".format(pattern, start_stop[0], start_stop[1])\n",
    "    anim.save(fname, writer=\"imagemagick\", fps=fps, dpi=400)\n",
    "    # Trim border\n",
    "    run([\"convert\", fname, \"-fuzz\", \"1%\", \"-trim\", \"+repage\", \"-delay\", \"500\", fname])\n",
    "    # pause at the end of the loop\n",
    "    print(\"Now run the following to put back the delay that imagemagick strips out:\")\n",
    "    print(\"convert {} \\( +clone -set delay 500 \\) +swap +delete {}\".format(fname, fname))\n",
    "    plt.show()"
   ]
  },
  {
   "cell_type": "code",
   "execution_count": 114,
   "metadata": {
    "collapsed": false
   },
   "outputs": [
    {
     "name": "stdout",
     "output_type": "stream",
     "text": [
      "Now run the following to put back the delay that imagemagick strips out:\n",
      "convert o+_4-22.gif \\( +clone -set delay 500 \\) +swap +delete o+_4-22.gif\n"
     ]
    },
    {
     "data": {
      "image/png": "[encoded data removed]",
      "text/plain": [
       "<matplotlib.figure.Figure at 0x7f4f75a8c4a8>"
      ]
     },
     "metadata": {},
     "output_type": "display_data"
    }
   ],
   "source": [
    "#data = from_csv(20, \"++\", \".\")\n",
    "#visualise(data, 10)\n",
    "animate_by_n((4,22), \"o+\")"
   ]
  },
  {
   "cell_type": "code",
   "execution_count": 110,
   "metadata": {
    "collapsed": false
   },
   "outputs": [
    {
     "name": "stdout",
     "output_type": "stream",
     "text": [
      "Grid initialised:\n",
      "side-length 32\n",
      "initial sand 1024\n",
      ".........................\n",
      "25 passes required\n",
      "0.012398958206176758s to reach stable state\n"
     ]
    },
    {
     "data": {
      "text/plain": [
       "<matplotlib.axes._subplots.AxesSubplot at 0x7f4f7cf7ecf8>"
      ]
     },
     "execution_count": 110,
     "metadata": {},
     "output_type": "execute_result"
    },
    {
     "data": {
      "image/png": "[encoded data removed]",
      "text/plain": [
       "<matplotlib.figure.Figure at 0x7f4f761dc630>"
      ]
     },
     "metadata": {},
     "output_type": "display_data"
    }
   ],
   "source": [
    "s = SandHeap(10, 'o+')\n",
    "g = s.topple(True)\n",
    "plt.figure(figsize=(6, 6))\n",
    "sns.heatmap(s.grid, cbar=False, xticklabels=False, yticklabels=False, cmap=\"RdYlBu\")"
   ]
  },
  {
   "cell_type": "markdown",
   "metadata": {},
   "source": [
    "## o+ pattern: Number of passes required to reach stability vs starting sand\n"
   ]
  },
  {
   "cell_type": "code",
   "execution_count": 60,
   "metadata": {
    "collapsed": false
   },
   "outputs": [
    {
     "data": {
      "text/plain": [
       "<matplotlib.axes._subplots.AxesSubplot at 0x7f4f7e05ab70>"
      ]
     },
     "execution_count": 60,
     "metadata": {},
     "output_type": "execute_result"
    },
    {
     "data": {
      "image/png": "[encoded data removed]",
      "text/plain": [
       "<matplotlib.figure.Figure at 0x7f4f7e02a828>"
      ]
     },
     "metadata": {},
     "output_type": "display_data"
    }
   ],
   "source": [
    "o_plusDF = pd.DataFrame(\n",
    "    {\n",
    "        \"sand\": [2 ** n for n in range(4,22)],\n",
    "        \"passes\": [2, 2, 2, 4, 6, 12, 26, 40, 91, 173, 371, 755, 1541, 3162, 6402, 13421, 25166, 54344]\n",
    "    }\n",
    ")\n",
    "sns.regplot(\"sand\", \"passes\", df)"
   ]
  },
  {
   "cell_type": "markdown",
   "metadata": {},
   "source": [
    "### Making a GIF\n",
    "Run the generation first with the verbose flag enabled to see how many steps are required to reach stable state. In general, more that a few hundred frames for the gif results in a giant filesize so adjust the step and n values to get a sensible number of frames.\n",
    "\n",
    "##### Cmap values\n",
    "`\n",
    "Accent, Accent_r, Blues, Blues_r, BrBG, BrBG_r, BuGn, BuGn_r, BuPu, BuPu_r, CMRmap, CMRmap_r, Dark2, Dark2_r, GnBu, \n",
    "GnBu_r, Greens, Greens_r, Greys, Greys_r, OrRd, OrRd_r, Oranges, Oranges_r, PRGn, PRGn_r, Paired, Paired_r, Pastel1, \n",
    "Pastel1_r, Pastel2, Pastel2_r, PiYG, PiYG_r, PuBu, PuBuGn, PuBuGn_r, PuBu_r, PuOr, PuOr_r, PuRd, PuRd_r, Purples, \n",
    "Purples_r, RdBu, RdBu_r, RdGy, RdGy_r, RdPu, RdPu_r, RdYlBu, RdYlBu_r, RdYlGn, RdYlGn_r, Reds, Reds_r, Set1, Set1_r, \n",
    "Set2, Set2_r, Set3, Set3_r, Spectral, Spectral_r, Wistia, Wistia_r, YlGn, YlGnBu, YlGnBu_r, YlGn_r, YlOrBr, YlOrBr_r, \n",
    "YlOrRd, YlOrRd_r, afmhot, afmhot_r, autumn, autumn_r, binary, binary_r, bone, bone_r, brg, brg_r, bwr, bwr_r, cool, \n",
    "cool_r, coolwarm, coolwarm_r, copper, copper_r, cubehelix, cubehelix_r, flag, flag_r, gist_earth, gist_earth_r, \n",
    "gist_gray, gist_gray_r, gist_heat, gist_heat_r, gist_ncar, gist_ncar_r, gist_rainbow, gist_rainbow_r, gist_stern, \n",
    "gist_stern_r, gist_yarg, gist_yarg_r, gnuplot, gnuplot2, gnuplot2_r, gnuplot_r, gray, gray_r, hot, hot_r, hsv, \n",
    "hsv_r, inferno, inferno_r, jet, jet_r, magma, magma_r, nipy_spectral, nipy_spectral_r, ocean, ocean_r, pink, pink_r, \n",
    "plasma, plasma_r, prism, prism_r, rainbow, rainbow_r, seismic, seismic_r, spectral, spectral_r, spring, spring_r, \n",
    "summer, summer_r, terrain, terrain_r, viridis, viridis_r, winter, winter_r\n",
    "`"
   ]
  },
  {
   "cell_type": "code",
   "execution_count": null,
   "metadata": {
    "collapsed": false,
    "scrolled": false
   },
   "outputs": [],
   "source": [
    "animate(n=450, k=19, pat='o+', step=32, ftype='gif', fps=20, trim=False, cmap=\"RdYlBu\")"
   ]
  },
  {
   "cell_type": "code",
   "execution_count": null,
   "metadata": {
    "collapsed": false
   },
   "outputs": [],
   "source": [
    "plt.figure(figsize=(18, 18))\n",
    "sns.heatmap(s.grid, cbar=False, xticklabels=False, yticklabels=False, cmap=\"RdYlBu\")"
   ]
  }
 ],
 "metadata": {
  "kernelspec": {
   "display_name": "Python 3",
   "language": "python",
   "name": "python3"
  },
  "language_info": {
   "codemirror_mode": {
    "name": "ipython",
    "version": 3
   },
   "file_extension": ".py",
   "mimetype": "text/x-python",
   "name": "python",
   "nbconvert_exporter": "python",
   "pygments_lexer": "ipython3",
   "version": "3.5.2"
  }
 },
 "nbformat": 4,
 "nbformat_minor": 0
}
