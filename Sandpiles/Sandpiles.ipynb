{
 "cells": [
  {
   "cell_type": "code",
   "execution_count": 466,
   "metadata": {
    "collapsed": false
   },
   "outputs": [
    {
     "name": "stdout",
     "output_type": "stream",
     "text": [
      "Populating the interactive namespace from numpy and matplotlib\n"
     ]
    }
   ],
   "source": [
    "%pylab inline\n",
    "import numpy as np\n",
    "import seaborn as sns\n",
    "from time import time\n",
    "\n",
    "\n",
    "class SandHeap:\n",
    "    '''Control class for managaing sandpile topples'''\n",
    "    patterns = {\n",
    "            '+': {\n",
    "                'maxval': 4,\n",
    "                'topple_cells': [(-1, 0), (1, 0), (0, -1), (0, 1)]\n",
    "                },\n",
    "            'x': {\n",
    "                'maxval': 4,\n",
    "                'topple_cells': [(-1, 1), (-1, -1), (-1, 1), (-1, -1)]\n",
    "                },\n",
    "            'o': {\n",
    "                'maxval': 8,\n",
    "                'topple_cells': [\n",
    "                    (-1, 0), (1, 0), (0, -1), (0, 1),\n",
    "                    (-1, 1), (-1, -1), (1, 1), (1, -1)\n",
    "                    ]\n",
    "                },\n",
    "            'o+': {\n",
    "                'maxval': 12,\n",
    "                'topple_cells': [\n",
    "                    (-1, 0), (1, 0), (0, -1), (0, 1),\n",
    "                    (-1, 1), (-1, -1), (1, 1), (1, -1),\n",
    "                    (-1, 0), (1, 0), (0, -1), (0, 1)\n",
    "                    ]\n",
    "                },\n",
    "            'ox': {\n",
    "                'maxval': 12,\n",
    "                'topple_cells': [\n",
    "                    (-1, 0), (1, 0), (0, -1), (0, 1),\n",
    "                    (-1, 1), (-1, -1), (1, 1), (1, -1),\n",
    "                    (-1, 1), (-1, -1), (-1, 1), (-1, -1)\n",
    "                    ]\n",
    "                }\n",
    "        }\n",
    "\n",
    "    def __init__(self, sand_power=10, topple_pattern='+'):\n",
    "        self.starting_sand = 2**sand_power\n",
    "\n",
    "        if topple_pattern in self.patterns:\n",
    "            self.topple_pattern = topple_pattern\n",
    "            self.max_per_cell = self.patterns[topple_pattern]['maxval']\n",
    "            self.topple_cells = self.patterns[topple_pattern]['topple_cells']\n",
    "        else:\n",
    "            err = 'Must use one of the following topple patterns: {}'\n",
    "            raise ValueError(err.format(', '.join(self.max_heap_size.keys())))\n",
    "\n",
    "        self.init_grid()\n",
    "\n",
    "    def init_grid(self):\n",
    "        side_length = int(self.starting_sand ** 0.5)\n",
    "        if self.topple_pattern == 'ox':\n",
    "            side_length *= 2\n",
    "        # We want an odd side length so that there is a definite centre\n",
    "        if side_length % 2 == 0:\n",
    "            side_length += 1\n",
    "        centre = int(side_length / 2)\n",
    "\n",
    "        grid = [[0 for j in range(side_length)] for k in range(side_length)]\n",
    "        grid[centre][centre] = self.starting_sand\n",
    "        self.grid = np.array([np.array(g, np.int64) for g in grid], np.int64)\n",
    "        print(\"Grid initialised:\\nside-length {}\\ninitial sand {}\".format(side_length, self.starting_sand))\n",
    "\n",
    "    def topple(self, verbose=False):\n",
    "        '''Topple the sand in the grid until we reach a steady state'''\n",
    "        start = time()\n",
    "        passes = 0\n",
    "\n",
    "        while np.max(self.grid) >= self.max_per_cell:\n",
    "            for rowix, row in enumerate(self.grid):\n",
    "                if np.max(row) >= self.max_per_cell:\n",
    "                    for cellix, cell in enumerate(row):\n",
    "                        if cell >= self.max_per_cell:\n",
    "                            self.topple_cell(rowix, cellix)\n",
    "            passes += 1\n",
    "            if passes % 30 == 0:\n",
    "                print(\".\", end=\"\")\n",
    "\n",
    "        if verbose:\n",
    "            t = time() - start\n",
    "            print(\"\\n{} passes required\".format(passes))\n",
    "            print(\"{}s to reach stable state\".format(t))\n",
    "        self.trim_grid()\n",
    "\n",
    "    def topple_cell(self, row, col):\n",
    "        '''Distribute sand to neighbouring cells'''\n",
    "        n, rem = divmod(self.grid[row][col], self.max_per_cell)\n",
    "        self.grid[row][col] = rem\n",
    "        for trow, tcol in self.topple_cells:\n",
    "            self.grid[row + trow][col + tcol] += n\n",
    "\n",
    "    def trim_grid(self):\n",
    "        # Trim empty\n",
    "        self.grid = [r for r in self.grid if sum(r) > 0]\n",
    "        # Trim empty columns\n",
    "        w1 = len(self.grid[0])\n",
    "        trans = [[r[n] for r in self.grid] for n in range(w1)]\n",
    "        trans = [r for r in trans if sum(r) > 0]\n",
    "        w2 = len(trans[0])\n",
    "        self.grid = [[r[n] for r in trans] for n in range(w2)]\n",
    "\n",
    "    def print_grid(self):\n",
    "        print(s.starting_sand)\n",
    "        for row in self.grid:\n",
    "            line = [str(cell) for cell in row]\n",
    "            print(''.join(line))"
   ]
  },
  {
   "cell_type": "code",
   "execution_count": 475,
   "metadata": {
    "collapsed": false
   },
   "outputs": [
    {
     "name": "stdout",
     "output_type": "stream",
     "text": [
      "Grid initialised:\n",
      "side-length 33\n",
      "initial sand 1024\n",
      "...\n",
      "108 passes required\n",
      "0.11244964599609375s to reach stable state\n"
     ]
    },
    {
     "data": {
      "text/plain": [
       "<matplotlib.axes._subplots.AxesSubplot at 0x7f51b250e9e8>"
      ]
     },
     "execution_count": 475,
     "metadata": {},
     "output_type": "execute_result"
    },
    {
     "data": {
      "image/png": "[encoded data removed]",
      "text/plain": [
       "<matplotlib.figure.Figure at 0x7f51b2523710>"
      ]
     },
     "metadata": {},
     "output_type": "display_data"
    }
   ],
   "source": [
    "s = SandHeap(10, '+')\n",
    "s.topple(True)\n",
    "plt.figure(figsize=(6, 6))\n",
    "sns.heatmap(s.grid, cbar=False, xticklabels=False, yticklabels=False, cmap=\"RdYlBu\")"
   ]
  },
  {
   "cell_type": "code",
   "execution_count": 474,
   "metadata": {
    "collapsed": false
   },
   "outputs": [
    {
     "data": {
      "text/plain": [
       "<matplotlib.axes._subplots.AxesSubplot at 0x7f51b228ca20>"
      ]
     },
     "execution_count": 474,
     "metadata": {},
     "output_type": "execute_result"
    },
    {
     "data": {
      "image/png": "[encoded data removed]",
      "text/plain": [
       "<matplotlib.figure.Figure at 0x7f51b229bb70>"
      ]
     },
     "metadata": {},
     "output_type": "display_data"
    }
   ],
   "source": [
    "plt.figure(figsize=(15, 15))\n",
    "sns.heatmap(s.grid, cbar=False, xticklabels=False, yticklabels=False, cmap=\"RdYlBu\")"
   ]
  },
  {
   "cell_type": "code",
   "execution_count": 445,
   "metadata": {
    "collapsed": false
   },
   "outputs": [
    {
     "data": {
      "text/plain": [
       "7"
      ]
     },
     "execution_count": 445,
     "metadata": {},
     "output_type": "execute_result"
    }
   ],
   "source": []
  }
 ],
 "metadata": {
  "kernelspec": {
   "display_name": "Python 3",
   "language": "python",
   "name": "python3"
  },
  "language_info": {
   "codemirror_mode": {
    "name": "ipython",
    "version": 3
   },
   "file_extension": ".py",
   "mimetype": "text/x-python",
   "name": "python",
   "nbconvert_exporter": "python",
   "pygments_lexer": "ipython3",
   "version": "3.5.2"
  }
 },
 "nbformat": 4,
 "nbformat_minor": 0
}
